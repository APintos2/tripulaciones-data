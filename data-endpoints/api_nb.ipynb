{
 "cells": [
  {
   "cell_type": "code",
   "execution_count": 10,
   "metadata": {},
   "outputs": [],
   "source": [
    "# pip install -r requirements.txt"
   ]
  },
  {
   "cell_type": "code",
   "execution_count": 11,
   "metadata": {},
   "outputs": [
    {
     "name": "stdout",
     "output_type": "stream",
     "text": [
      "Requirement already satisfied: openai==0.28 in c:\\users\\apint\\documents\\data science\\bootcamp edem_the bridge\\core_vlc\\carpeta de trabajo\\desafio_tripulaciones\\scripts\\data-endpoints\\venv\\lib\\site-packages (0.28.0)\n",
      "Requirement already satisfied: requests>=2.20 in c:\\users\\apint\\documents\\data science\\bootcamp edem_the bridge\\core_vlc\\carpeta de trabajo\\desafio_tripulaciones\\scripts\\data-endpoints\\venv\\lib\\site-packages (from openai==0.28) (2.31.0)\n",
      "Requirement already satisfied: tqdm in c:\\users\\apint\\documents\\data science\\bootcamp edem_the bridge\\core_vlc\\carpeta de trabajo\\desafio_tripulaciones\\scripts\\data-endpoints\\venv\\lib\\site-packages (from openai==0.28) (4.66.1)\n",
      "Requirement already satisfied: aiohttp in c:\\users\\apint\\documents\\data science\\bootcamp edem_the bridge\\core_vlc\\carpeta de trabajo\\desafio_tripulaciones\\scripts\\data-endpoints\\venv\\lib\\site-packages (from openai==0.28) (3.9.1)\n",
      "Requirement already satisfied: charset-normalizer<4,>=2 in c:\\users\\apint\\documents\\data science\\bootcamp edem_the bridge\\core_vlc\\carpeta de trabajo\\desafio_tripulaciones\\scripts\\data-endpoints\\venv\\lib\\site-packages (from requests>=2.20->openai==0.28) (3.3.2)\n",
      "Requirement already satisfied: idna<4,>=2.5 in c:\\users\\apint\\documents\\data science\\bootcamp edem_the bridge\\core_vlc\\carpeta de trabajo\\desafio_tripulaciones\\scripts\\data-endpoints\\venv\\lib\\site-packages (from requests>=2.20->openai==0.28) (3.6)\n",
      "Requirement already satisfied: urllib3<3,>=1.21.1 in c:\\users\\apint\\documents\\data science\\bootcamp edem_the bridge\\core_vlc\\carpeta de trabajo\\desafio_tripulaciones\\scripts\\data-endpoints\\venv\\lib\\site-packages (from requests>=2.20->openai==0.28) (2.1.0)\n",
      "Requirement already satisfied: certifi>=2017.4.17 in c:\\users\\apint\\documents\\data science\\bootcamp edem_the bridge\\core_vlc\\carpeta de trabajo\\desafio_tripulaciones\\scripts\\data-endpoints\\venv\\lib\\site-packages (from requests>=2.20->openai==0.28) (2023.11.17)\n",
      "Requirement already satisfied: attrs>=17.3.0 in c:\\users\\apint\\documents\\data science\\bootcamp edem_the bridge\\core_vlc\\carpeta de trabajo\\desafio_tripulaciones\\scripts\\data-endpoints\\venv\\lib\\site-packages (from aiohttp->openai==0.28) (23.2.0)\n",
      "Requirement already satisfied: multidict<7.0,>=4.5 in c:\\users\\apint\\documents\\data science\\bootcamp edem_the bridge\\core_vlc\\carpeta de trabajo\\desafio_tripulaciones\\scripts\\data-endpoints\\venv\\lib\\site-packages (from aiohttp->openai==0.28) (6.0.4)\n",
      "Requirement already satisfied: yarl<2.0,>=1.0 in c:\\users\\apint\\documents\\data science\\bootcamp edem_the bridge\\core_vlc\\carpeta de trabajo\\desafio_tripulaciones\\scripts\\data-endpoints\\venv\\lib\\site-packages (from aiohttp->openai==0.28) (1.9.4)\n",
      "Requirement already satisfied: frozenlist>=1.1.1 in c:\\users\\apint\\documents\\data science\\bootcamp edem_the bridge\\core_vlc\\carpeta de trabajo\\desafio_tripulaciones\\scripts\\data-endpoints\\venv\\lib\\site-packages (from aiohttp->openai==0.28) (1.4.1)\n",
      "Requirement already satisfied: aiosignal>=1.1.2 in c:\\users\\apint\\documents\\data science\\bootcamp edem_the bridge\\core_vlc\\carpeta de trabajo\\desafio_tripulaciones\\scripts\\data-endpoints\\venv\\lib\\site-packages (from aiohttp->openai==0.28) (1.3.1)\n",
      "Requirement already satisfied: colorama in c:\\users\\apint\\documents\\data science\\bootcamp edem_the bridge\\core_vlc\\carpeta de trabajo\\desafio_tripulaciones\\scripts\\data-endpoints\\venv\\lib\\site-packages (from tqdm->openai==0.28) (0.4.6)\n",
      "Note: you may need to restart the kernel to use updated packages.\n"
     ]
    },
    {
     "name": "stderr",
     "output_type": "stream",
     "text": [
      "\n",
      "[notice] A new release of pip is available: 23.2.1 -> 23.3.2\n",
      "[notice] To update, run: python.exe -m pip install --upgrade pip\n"
     ]
    }
   ],
   "source": [
    "pip install openai==0.28"
   ]
  },
  {
   "cell_type": "code",
   "execution_count": 1,
   "metadata": {},
   "outputs": [],
   "source": [
    "import openai\n",
    "import typer\n",
    "from rich import print\n",
    "from rich.table import Table\n",
    "import os"
   ]
  },
  {
   "cell_type": "code",
   "execution_count": 28,
   "metadata": {},
   "outputs": [],
   "source": [
    "# from apitest_copy import main\n",
    "# from apitest_copy import __prompt\n",
    "import apitest_copy\n",
    "from apitest_copy import *"
   ]
  },
  {
   "cell_type": "code",
   "execution_count": 37,
   "metadata": {},
   "outputs": [
    {
     "data": {
      "text/html": [
       "<pre style=\"white-space:pre;overflow-x:auto;line-height:normal;font-family:Menlo,'DejaVu Sans Mono',consolas,'Courier New',monospace\">💬 <span style=\"color: #008000; text-decoration-color: #008000; font-weight: bold\">ChatGPT API en Python</span>\n",
       "</pre>\n"
      ],
      "text/plain": [
       "💬 \u001b[1;32mChatGPT API en Python\u001b[0m\n"
      ]
     },
     "metadata": {},
     "output_type": "display_data"
    },
    {
     "name": "stdout",
     "output_type": "stream",
     "text": [
      "\n",
      "¿Sobre qué quieres hablar? :"
     ]
    },
    {
     "data": {
      "text/html": [
       "<pre style=\"white-space:pre;overflow-x:auto;line-height:normal;font-family:Menlo,'DejaVu Sans Mono',consolas,'Courier New',monospace\"><span style=\"color: #008000; text-decoration-color: #008000; font-weight: bold\">&gt; </span> <span style=\"color: #008000; text-decoration-color: #008000\">Ascensor, </span><span style=\"color: #008000; text-decoration-color: #008000; font-weight: bold\">3</span>\n",
       "</pre>\n"
      ],
      "text/plain": [
       "\u001b[1;32m> \u001b[0m \u001b[32mAscensor, \u001b[0m\u001b[1;32m3\u001b[0m\n"
      ]
     },
     "metadata": {},
     "output_type": "display_data"
    }
   ],
   "source": [
    "response_content"
   ]
  },
  {
   "cell_type": "code",
   "execution_count": 39,
   "metadata": {},
   "outputs": [
    {
     "data": {
      "text/html": [
       "<pre style=\"white-space:pre;overflow-x:auto;line-height:normal;font-family:Menlo,'DejaVu Sans Mono',consolas,'Courier New',monospace\"><span style=\"color: #800080; text-decoration-color: #800080; font-style: italic\">None</span>\n",
       "</pre>\n"
      ],
      "text/plain": [
       "\u001b[3;35mNone\u001b[0m\n"
      ]
     },
     "metadata": {},
     "output_type": "display_data"
    }
   ],
   "source": []
  },
  {
   "cell_type": "code",
   "execution_count": 35,
   "metadata": {},
   "outputs": [
    {
     "data": {
      "text/html": [
       "<pre style=\"white-space:pre;overflow-x:auto;line-height:normal;font-family:Menlo,'DejaVu Sans Mono',consolas,'Courier New',monospace\">💬 <span style=\"color: #008000; text-decoration-color: #008000; font-weight: bold\">ChatGPT API en Python</span>\n",
       "</pre>\n"
      ],
      "text/plain": [
       "💬 \u001b[1;32mChatGPT API en Python\u001b[0m\n"
      ]
     },
     "metadata": {},
     "output_type": "display_data"
    },
    {
     "name": "stdout",
     "output_type": "stream",
     "text": [
      "\n",
      "¿Sobre qué quieres hablar? :"
     ]
    },
    {
     "data": {
      "text/html": [
       "<pre style=\"white-space:pre;overflow-x:auto;line-height:normal;font-family:Menlo,'DejaVu Sans Mono',consolas,'Courier New',monospace\"><span style=\"color: #008000; text-decoration-color: #008000; font-weight: bold\">&gt; </span> <span style=\"color: #008000; text-decoration-color: #008000\">Ascensor - Urgencia </span><span style=\"color: #008000; text-decoration-color: #008000; font-weight: bold\">3</span>\n",
       "</pre>\n"
      ],
      "text/plain": [
       "\u001b[1;32m> \u001b[0m \u001b[32mAscensor - Urgencia \u001b[0m\u001b[1;32m3\u001b[0m\n"
      ]
     },
     "metadata": {},
     "output_type": "display_data"
    },
    {
     "data": {
      "text/html": [
       "<pre style=\"white-space:pre;overflow-x:auto;line-height:normal;font-family:Menlo,'DejaVu Sans Mono',consolas,'Courier New',monospace\"><span style=\"color: #800080; text-decoration-color: #800080; font-style: italic\">None</span>\n",
       "</pre>\n"
      ],
      "text/plain": [
       "\u001b[3;35mNone\u001b[0m\n"
      ]
     },
     "metadata": {},
     "output_type": "display_data"
    }
   ],
   "source": [
    "print(main())"
   ]
  },
  {
   "cell_type": "code",
   "execution_count": null,
   "metadata": {},
   "outputs": [],
   "source": []
  }
 ],
 "metadata": {
  "kernelspec": {
   "display_name": "venv",
   "language": "python",
   "name": "python3"
  },
  "language_info": {
   "codemirror_mode": {
    "name": "ipython",
    "version": 3
   },
   "file_extension": ".py",
   "mimetype": "text/x-python",
   "name": "python",
   "nbconvert_exporter": "python",
   "pygments_lexer": "ipython3",
   "version": "3.11.5"
  }
 },
 "nbformat": 4,
 "nbformat_minor": 2
}
